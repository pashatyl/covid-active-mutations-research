{
 "cells": [
  {
   "cell_type": "code",
   "execution_count": 307,
   "metadata": {},
   "outputs": [
    {
     "name": "stderr",
     "output_type": "stream",
     "text": [
      "/Library/Frameworks/Python.framework/Versions/3.6/lib/python3.6/site-packages/IPython/core/interactiveshell.py:3072: DtypeWarning: Columns (8) have mixed types.Specify dtype option on import or set low_memory=False.\n",
      "  interactivity=interactivity, compiler=compiler, result=result)\n"
     ]
    }
   ],
   "source": [
    "import pandas as pd\n",
    "import numpy as np\n",
    "data = pd.read_csv('COVID data/metadata_2020-12-28_14-16.tsv', sep='\\t', header=0)"
   ]
  },
  {
   "cell_type": "code",
   "execution_count": 5,
   "metadata": {},
   "outputs": [
    {
     "data": {
      "text/html": [
       "<div>\n",
       "<style scoped>\n",
       "    .dataframe tbody tr th:only-of-type {\n",
       "        vertical-align: middle;\n",
       "    }\n",
       "\n",
       "    .dataframe tbody tr th {\n",
       "        vertical-align: top;\n",
       "    }\n",
       "\n",
       "    .dataframe thead th {\n",
       "        text-align: right;\n",
       "    }\n",
       "</style>\n",
       "<table border=\"1\" class=\"dataframe\">\n",
       "  <thead>\n",
       "    <tr style=\"text-align: right;\">\n",
       "      <th></th>\n",
       "      <th>strain</th>\n",
       "      <th>virus</th>\n",
       "      <th>gisaid_epi_isl</th>\n",
       "      <th>genbank_accession</th>\n",
       "      <th>date</th>\n",
       "      <th>region</th>\n",
       "      <th>country</th>\n",
       "      <th>division</th>\n",
       "      <th>location</th>\n",
       "      <th>region_exposure</th>\n",
       "      <th>...</th>\n",
       "      <th>Nextstrain_clade</th>\n",
       "      <th>pangolin_lineage</th>\n",
       "      <th>GISAID_clade</th>\n",
       "      <th>originating_lab</th>\n",
       "      <th>submitting_lab</th>\n",
       "      <th>authors</th>\n",
       "      <th>url</th>\n",
       "      <th>title</th>\n",
       "      <th>paper_url</th>\n",
       "      <th>date_submitted</th>\n",
       "    </tr>\n",
       "  </thead>\n",
       "  <tbody>\n",
       "    <tr>\n",
       "      <th>0</th>\n",
       "      <td>Algeria/G0638_2264/2020</td>\n",
       "      <td>ncov</td>\n",
       "      <td>EPI_ISL_418241</td>\n",
       "      <td>?</td>\n",
       "      <td>2020-03-02</td>\n",
       "      <td>Africa</td>\n",
       "      <td>Algeria</td>\n",
       "      <td>Boufarik</td>\n",
       "      <td>NaN</td>\n",
       "      <td>Africa</td>\n",
       "      <td>...</td>\n",
       "      <td>20C</td>\n",
       "      <td>B.1</td>\n",
       "      <td>GH</td>\n",
       "      <td>NIC Viral Respiratory Unit - Institut Pasteur ...</td>\n",
       "      <td>National Reference Center for Viruses of Respi...</td>\n",
       "      <td>Mélanie Albert et al</td>\n",
       "      <td>https://www.gisaid.org</td>\n",
       "      <td>?</td>\n",
       "      <td>?</td>\n",
       "      <td>2020-03-29</td>\n",
       "    </tr>\n",
       "    <tr>\n",
       "      <th>1</th>\n",
       "      <td>Algeria/G0640_2265/2020</td>\n",
       "      <td>ncov</td>\n",
       "      <td>EPI_ISL_418242</td>\n",
       "      <td>?</td>\n",
       "      <td>2020-03-08</td>\n",
       "      <td>Africa</td>\n",
       "      <td>Algeria</td>\n",
       "      <td>Blida</td>\n",
       "      <td>NaN</td>\n",
       "      <td>Africa</td>\n",
       "      <td>...</td>\n",
       "      <td>20C</td>\n",
       "      <td>B.1</td>\n",
       "      <td>GH</td>\n",
       "      <td>NIC Viral Respiratory Unit - Institut Pasteur ...</td>\n",
       "      <td>National Reference Center for Viruses of Respi...</td>\n",
       "      <td>Mélanie Albert et al</td>\n",
       "      <td>https://www.gisaid.org</td>\n",
       "      <td>?</td>\n",
       "      <td>?</td>\n",
       "      <td>2020-03-29</td>\n",
       "    </tr>\n",
       "    <tr>\n",
       "      <th>2</th>\n",
       "      <td>Algeria/G0860_2262/2020</td>\n",
       "      <td>ncov</td>\n",
       "      <td>EPI_ISL_420037</td>\n",
       "      <td>?</td>\n",
       "      <td>2020-03-02</td>\n",
       "      <td>Africa</td>\n",
       "      <td>Algeria</td>\n",
       "      <td>Boufarik</td>\n",
       "      <td>NaN</td>\n",
       "      <td>Africa</td>\n",
       "      <td>...</td>\n",
       "      <td>20C</td>\n",
       "      <td>B.1</td>\n",
       "      <td>GH</td>\n",
       "      <td>NIC Viral Respiratory Unit - Institut Pasteur ...</td>\n",
       "      <td>National Reference Center for Viruses of Respi...</td>\n",
       "      <td>Mélanie Albert et al</td>\n",
       "      <td>https://www.gisaid.org</td>\n",
       "      <td>?</td>\n",
       "      <td>?</td>\n",
       "      <td>2020-04-04</td>\n",
       "    </tr>\n",
       "    <tr>\n",
       "      <th>3</th>\n",
       "      <td>Andorra/202552/2020</td>\n",
       "      <td>ncov</td>\n",
       "      <td>EPI_ISL_539496</td>\n",
       "      <td>?</td>\n",
       "      <td>2020-03-13</td>\n",
       "      <td>Europe</td>\n",
       "      <td>Andorra</td>\n",
       "      <td>Andorra</td>\n",
       "      <td>NaN</td>\n",
       "      <td>Europe</td>\n",
       "      <td>...</td>\n",
       "      <td>20A</td>\n",
       "      <td>B.1.5</td>\n",
       "      <td>O</td>\n",
       "      <td>Hospital Nostra Senyora de Meritxell</td>\n",
       "      <td>Instituto de Salud Carlos III</td>\n",
       "      <td>Iglesias-Caballero et al</td>\n",
       "      <td>https://www.gisaid.org</td>\n",
       "      <td>?</td>\n",
       "      <td>?</td>\n",
       "      <td>2020-09-18</td>\n",
       "    </tr>\n",
       "    <tr>\n",
       "      <th>4</th>\n",
       "      <td>Anhui/SZ005/2020</td>\n",
       "      <td>ncov</td>\n",
       "      <td>EPI_ISL_413485</td>\n",
       "      <td>?</td>\n",
       "      <td>2020-01-24</td>\n",
       "      <td>Asia</td>\n",
       "      <td>China</td>\n",
       "      <td>Anhui</td>\n",
       "      <td>Suzhou</td>\n",
       "      <td>Asia</td>\n",
       "      <td>...</td>\n",
       "      <td>19B</td>\n",
       "      <td>A</td>\n",
       "      <td>S</td>\n",
       "      <td>Department of microbiology laboratory,Anhui Pr...</td>\n",
       "      <td>Department of microbiology laboratory,Anhui Pr...</td>\n",
       "      <td>Weiwei Li et al</td>\n",
       "      <td>https://www.gisaid.org</td>\n",
       "      <td>?</td>\n",
       "      <td>?</td>\n",
       "      <td>2020-03-05</td>\n",
       "    </tr>\n",
       "  </tbody>\n",
       "</table>\n",
       "<p>5 rows × 27 columns</p>\n",
       "</div>"
      ],
      "text/plain": [
       "                    strain virus  gisaid_epi_isl genbank_accession  \\\n",
       "0  Algeria/G0638_2264/2020  ncov  EPI_ISL_418241                 ?   \n",
       "1  Algeria/G0640_2265/2020  ncov  EPI_ISL_418242                 ?   \n",
       "2  Algeria/G0860_2262/2020  ncov  EPI_ISL_420037                 ?   \n",
       "3      Andorra/202552/2020  ncov  EPI_ISL_539496                 ?   \n",
       "4         Anhui/SZ005/2020  ncov  EPI_ISL_413485                 ?   \n",
       "\n",
       "         date  region  country  division location region_exposure  ...  \\\n",
       "0  2020-03-02  Africa  Algeria  Boufarik      NaN          Africa  ...   \n",
       "1  2020-03-08  Africa  Algeria     Blida      NaN          Africa  ...   \n",
       "2  2020-03-02  Africa  Algeria  Boufarik      NaN          Africa  ...   \n",
       "3  2020-03-13  Europe  Andorra   Andorra      NaN          Europe  ...   \n",
       "4  2020-01-24    Asia    China     Anhui   Suzhou            Asia  ...   \n",
       "\n",
       "  Nextstrain_clade pangolin_lineage GISAID_clade  \\\n",
       "0              20C              B.1           GH   \n",
       "1              20C              B.1           GH   \n",
       "2              20C              B.1           GH   \n",
       "3              20A            B.1.5            O   \n",
       "4              19B                A            S   \n",
       "\n",
       "                                     originating_lab  \\\n",
       "0  NIC Viral Respiratory Unit - Institut Pasteur ...   \n",
       "1  NIC Viral Respiratory Unit - Institut Pasteur ...   \n",
       "2  NIC Viral Respiratory Unit - Institut Pasteur ...   \n",
       "3               Hospital Nostra Senyora de Meritxell   \n",
       "4  Department of microbiology laboratory,Anhui Pr...   \n",
       "\n",
       "                                      submitting_lab  \\\n",
       "0  National Reference Center for Viruses of Respi...   \n",
       "1  National Reference Center for Viruses of Respi...   \n",
       "2  National Reference Center for Viruses of Respi...   \n",
       "3                      Instituto de Salud Carlos III   \n",
       "4  Department of microbiology laboratory,Anhui Pr...   \n",
       "\n",
       "                    authors                     url title paper_url  \\\n",
       "0      Mélanie Albert et al  https://www.gisaid.org     ?         ?   \n",
       "1      Mélanie Albert et al  https://www.gisaid.org     ?         ?   \n",
       "2      Mélanie Albert et al  https://www.gisaid.org     ?         ?   \n",
       "3  Iglesias-Caballero et al  https://www.gisaid.org     ?         ?   \n",
       "4           Weiwei Li et al  https://www.gisaid.org     ?         ?   \n",
       "\n",
       "  date_submitted  \n",
       "0     2020-03-29  \n",
       "1     2020-03-29  \n",
       "2     2020-04-04  \n",
       "3     2020-09-18  \n",
       "4     2020-03-05  \n",
       "\n",
       "[5 rows x 27 columns]"
      ]
     },
     "execution_count": 5,
     "metadata": {},
     "output_type": "execute_result"
    }
   ],
   "source": [
    "data.head()"
   ]
  },
  {
   "cell_type": "markdown",
   "metadata": {},
   "source": [
    "## Selecting featured countries\n",
    "\n",
    "Select countries with less then 10k sequences and draw hist of number of sequences (to select bounds for featured)"
   ]
  },
  {
   "cell_type": "code",
   "execution_count": 431,
   "metadata": {},
   "outputs": [
    {
     "data": {
      "image/png": "[encoded data removed]",
      "text/plain": [
       "<Figure size 432x288 with 1 Axes>"
      ]
     },
     "metadata": {
      "needs_background": "light"
     },
     "output_type": "display_data"
    }
   ],
   "source": [
    "from collections import Counter\n",
    "import matplotlib.pyplot as plt\n",
    "counted = Counter(data['country'])\n",
    "cnt = list(filter(lambda x: x < 10000, counted.values()))\n",
    "plt.hist(list(cnt))\n",
    "plt.xlabel('sequences num')\n",
    "plt.ylabel('occurrences')\n",
    "plt.show()"
   ]
  },
  {
   "cell_type": "code",
   "execution_count": 11,
   "metadata": {},
   "outputs": [
    {
     "data": {
      "text/plain": [
       "[('Australia', 16540),\n",
       " ('Belgium', 2731),\n",
       " ('Netherlands', 4587),\n",
       " ('Canada', 3604),\n",
       " ('Denmark', 16790),\n",
       " ('United Kingdom', 137179),\n",
       " ('France', 2726),\n",
       " ('India', 4236),\n",
       " ('Japan', 9649),\n",
       " ('Portugal', 2203),\n",
       " ('USA', 52254),\n",
       " ('South Africa', 2801),\n",
       " ('Spain', 5612),\n",
       " ('Switzerland', 4953)]"
      ]
     },
     "execution_count": 11,
     "metadata": {},
     "output_type": "execute_result"
    }
   ],
   "source": [
    "list(filter(lambda x: x[1] > 2000, dict(counted).items()))"
   ]
  },
  {
   "cell_type": "markdown",
   "metadata": {},
   "source": [
    "Manually select featured: small countries with many secuences processed"
   ]
  },
  {
   "cell_type": "code",
   "execution_count": 12,
   "metadata": {},
   "outputs": [],
   "source": [
    "top_countries = ['Belgium', 'Netherlands', 'Denmark', 'France', 'Japan', 'Portugal', 'South Africa', 'Spain', 'Switzerland']"
   ]
  },
  {
   "cell_type": "markdown",
   "metadata": {},
   "source": [
    "## Prepare country-separated data"
   ]
  },
  {
   "cell_type": "code",
   "execution_count": 13,
   "metadata": {},
   "outputs": [],
   "source": [
    "from collections import defaultdict\n",
    "top_countries_dict = data.loc[data['country'].isin(top_countries)]['country'].to_dict()\n",
    "grouped_ids = defaultdict(set)\n",
    "for k, v in top_countries_dict.items():\n",
    "    grouped_ids[v].add(k)"
   ]
  },
  {
   "cell_type": "code",
   "execution_count": 72,
   "metadata": {},
   "outputs": [],
   "source": [
    "def create_country_file(country):\n",
    "    with open('COVID data/msa_1229/msa_1229.fasta') as f:\n",
    "        meta = f.readline()\n",
    "        v = 0\n",
    "\n",
    "        while meta:\n",
    "            sequence = f.readline()\n",
    "            if country in meta:\n",
    "                with open(f\"COVID data/msa_1229/countries/{country}.fasta\", \"a+\") as cf:\n",
    "                    cf.writelines([meta, sequence])\n",
    "            v += 1\n",
    "\n",
    "            meta = f.readline()\n",
    "\n",
    "    print(v)"
   ]
  },
  {
   "cell_type": "code",
   "execution_count": 73,
   "metadata": {},
   "outputs": [
    {
     "name": "stdout",
     "output_type": "stream",
     "text": [
      "276018\n"
     ]
    }
   ],
   "source": [
    "create_country_file(\"Belgium\")"
   ]
  },
  {
   "cell_type": "code",
   "execution_count": 31,
   "metadata": {},
   "outputs": [],
   "source": [
    "metas = 0\n",
    "v = 0\n",
    "ids = set(data.loc[data['country'] == 'Belgium']['strain'].tolist())\n",
    "\n",
    "bel_ids = set()\n",
    "\n",
    "with open('COVID data/msa_1229/msa_1229.fasta') as f:\n",
    "    meta = f.readline()\n",
    "    while meta:\n",
    "        sequence = f.readline()\n",
    "        id_ = meta.split(\"|\")[0][9:]\n",
    "        if id_ in ids:\n",
    "            bel_ids.add(id_)\n",
    "        \n",
    "        meta = f.readline()"
   ]
  },
  {
   "cell_type": "code",
   "execution_count": 17,
   "metadata": {},
   "outputs": [],
   "source": [
    "from tqdm import tqdm\n",
    "\n",
    "belgium = []\n",
    "metas = []\n",
    "common_len = 0\n",
    "with open(\"COVID data/Belgium.fasta\", \"r\") as cf:\n",
    "    meta = cf.readline()\n",
    "    while meta:\n",
    "        seq = cf.readline()\n",
    "        metas.append(meta)\n",
    "        belgium.append(seq)  \n",
    "        meta = cf.readline()\n",
    "    \n",
    "print(len(belgium))\n",
    "\n",
    "final_sequences = []\n",
    "spaces = []\n",
    "for seq in tqdm(list(zip(*belgium))):\n",
    "    spaces.append(seq.count('-') * 1.0 / len(seq))\n",
    "    if seq.count('-') * 1.0 / len(seq) > 0.1:\n",
    "        continue\n",
    "    final_sequences.append(seq)\n",
    "print((final_sequences))"
   ]
  },
  {
   "cell_type": "code",
   "execution_count": 77,
   "metadata": {},
   "outputs": [
    {
     "data": {
      "image/png": "[encoded data removed]",
      "text/plain": [
       "<Figure size 432x288 with 1 Axes>"
      ]
     },
     "metadata": {
      "needs_background": "light"
     },
     "output_type": "display_data"
    }
   ],
   "source": [
    "plt.hist(spaces)\n",
    "plt.show()"
   ]
  },
  {
   "cell_type": "markdown",
   "metadata": {},
   "source": [
    "## Sequences analysis\n",
    "\n",
    "Draw hist for some subtrees and trendline to understend dynamics of key mutations distrubution"
   ]
  },
  {
   "cell_type": "code",
   "execution_count": 499,
   "metadata": {},
   "outputs": [],
   "source": [
    "from collections import defaultdict\n",
    "from datetime import datetime\n",
    "import matplotlib.pyplot as plt\n",
    "import matplotlib.dates as mdates\n",
    "import numpy as np\n",
    "\n",
    "def get_date_from_meta(meta):\n",
    "    return meta.split(\"|\")[2]\n",
    "\n",
    "def get_id_from_meta(meta):\n",
    "    return meta.split(\"/\")[2]\n",
    "\n",
    "def get_timestamp(date: str):\n",
    "    return mdates.epoch2num(datetime.strptime(date, '%Y-%m-%d').timestamp())\n",
    "\n",
    "def show_hist(n, bins, polynom=None, width=1):\n",
    "    fig, ax = plt.subplots(1,1)\n",
    "    ax.bar(bins[:-1], n, width=width)\n",
    "    ax.xaxis.set_major_formatter(mdates.DateFormatter('%d.%m'))\n",
    "    if polynom is not None:\n",
    "        ax.plot(bins, polynom(bins), \"r--\")\n",
    "    plt.xlabel('months')\n",
    "    plt.ylabel('occurrences')\n",
    "    plt.show()\n",
    "\n",
    "def prepare_hist(leaves, bins_n):\n",
    "    bounds = (get_timestamp('2019-12-24'), get_timestamp('2021-01-10'))\n",
    "    dates = [get_timestamp(get_date_from_meta(leaf)) for leaf in leaves]\n",
    "    mpl_data = dates\n",
    "    return np.histogram(mpl_data, bins=bins_n)\n",
    "    \n",
    "def draw_date_histogramm_by_subtree(leaves, bins_n=50, force_draw=False, min_k=0.02):\n",
    "    n, bins = prepare_hist(leaves, bins_n)\n",
    "    z = np.polyfit(bins[:-1], n, 1)\n",
    "    if z[0] > min_k or force_draw:\n",
    "        print(f'Subtree size: {len(leaves)}')\n",
    "        print(f'Trendline coefficient: {z[0]}')\n",
    "        p = np.poly1d(z)\n",
    "        show_hist(n, bins, p)"
   ]
  },
  {
   "cell_type": "code",
   "execution_count": 125,
   "metadata": {},
   "outputs": [],
   "source": [
    "import io\n",
    "from newick import load\n",
    "with io.open('COVID data/tree_raw.nwk', encoding='utf8') as fp:\n",
    "    tree2 = load(fp)[0]"
   ]
  },
  {
   "cell_type": "code",
   "execution_count": 502,
   "metadata": {},
   "outputs": [
    {
     "name": "stdout",
     "output_type": "stream",
     "text": [
      "Subtree size: 2587\n",
      "Trendline coefficient: 0.028486642181781287\n"
     ]
    },
    {
     "data": {
      "image/png": "[encoded data removed]",
      "text/plain": [
       "<Figure size 432x288 with 1 Axes>"
      ]
     },
     "metadata": {
      "needs_background": "light"
     },
     "output_type": "display_data"
    }
   ],
   "source": [
    "leafs = tree2.get_leaf_names()\n",
    "draw_date_histogramm_by_subtree(leafs, force_draw=True)"
   ]
  },
  {
   "cell_type": "code",
   "execution_count": 504,
   "metadata": {},
   "outputs": [
    {
     "name": "stdout",
     "output_type": "stream",
     "text": [
      "Subtree size: 75\n",
      "Trendline coefficient: 0.024743781810229414\n"
     ]
    },
    {
     "data": {
      "image/png": "[encoded data removed]",
      "text/plain": [
       "<Figure size 432x288 with 1 Axes>"
      ]
     },
     "metadata": {
      "needs_background": "light"
     },
     "output_type": "display_data"
    },
    {
     "name": "stdout",
     "output_type": "stream",
     "text": [
      "Subtree size: 41\n",
      "Trendline coefficient: 0.03171138585307399\n"
     ]
    },
    {
     "data": {
      "image/png": "[encoded data removed]",
      "text/plain": [
       "<Figure size 432x288 with 1 Axes>"
      ]
     },
     "metadata": {
      "needs_background": "light"
     },
     "output_type": "display_data"
    },
    {
     "name": "stdout",
     "output_type": "stream",
     "text": [
      "Subtree size: 89\n",
      "Trendline coefficient: 0.027747807984107243\n"
     ]
    },
    {
     "data": {
      "image/png": "[encoded data removed]",
      "text/plain": [
       "<Figure size 432x288 with 1 Axes>"
      ]
     },
     "metadata": {
      "needs_background": "light"
     },
     "output_type": "display_data"
    }
   ],
   "source": [
    "def _dig(node, stop_fn):\n",
    "    if not stop_fn(node):\n",
    "        res = []\n",
    "        for descendant in node.descendants:\n",
    "            if not descendant.is_leaf:\n",
    "                res += _dig(descendant, stop_fn)\n",
    "        return res\n",
    "    else:\n",
    "        return [node]\n",
    "\n",
    "def analyze_subtree(subroot):\n",
    "    for i in _dig(subroot, lambda node: len(node.get_leaves()) < 100):\n",
    "        leaves = i.get_leaf_names()\n",
    "        if len(leaves) < 30:\n",
    "            continue\n",
    "        draw_date_histogramm_by_subtree(leaves)\n",
    "        \n",
    "analyze_subtree(tree2)"
   ]
  },
  {
   "cell_type": "code",
   "execution_count": null,
   "metadata": {},
   "outputs": [],
   "source": []
  }
 ],
 "metadata": {
  "kernelspec": {
   "display_name": "Python 3",
   "language": "python",
   "name": "python3"
  },
  "language_info": {
   "codemirror_mode": {
    "name": "ipython",
    "version": 3
   },
   "file_extension": ".py",
   "mimetype": "text/x-python",
   "name": "python",
   "nbconvert_exporter": "python",
   "pygments_lexer": "ipython3",
   "version": "3.6.5"
  }
 },
 "nbformat": 4,
 "nbformat_minor": 4
}
