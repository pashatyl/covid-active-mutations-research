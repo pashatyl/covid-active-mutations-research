{
 "cells": [
  {
   "cell_type": "code",
   "execution_count": 1,
   "metadata": {},
   "outputs": [
    {
     "name": "stderr",
     "output_type": "stream",
     "text": [
      "/Library/Frameworks/Python.framework/Versions/3.6/lib/python3.6/site-packages/IPython/core/interactiveshell.py:3072: DtypeWarning: Columns (8) have mixed types.Specify dtype option on import or set low_memory=False.\n",
      "  interactivity=interactivity, compiler=compiler, result=result)\n"
     ]
    }
   ],
   "source": [
    "import pandas as pd\n",
    "import numpy as np\n",
    "from collections import Counter\n",
    "import matplotlib.pyplot as plt\n",
    "from tqdm import tqdm\n",
    "\n",
    "\n",
    "data = pd.read_csv('COVID data/metadata_2020-12-28_14-16.tsv', sep='\\t', header=0)"
   ]
  },
  {
   "cell_type": "code",
   "execution_count": 5,
   "metadata": {},
   "outputs": [
    {
     "data": {
      "text/html": [
       "<div>\n",
       "<style scoped>\n",
       "    .dataframe tbody tr th:only-of-type {\n",
       "        vertical-align: middle;\n",
       "    }\n",
       "\n",
       "    .dataframe tbody tr th {\n",
       "        vertical-align: top;\n",
       "    }\n",
       "\n",
       "    .dataframe thead th {\n",
       "        text-align: right;\n",
       "    }\n",
       "</style>\n",
       "<table border=\"1\" class=\"dataframe\">\n",
       "  <thead>\n",
       "    <tr style=\"text-align: right;\">\n",
       "      <th></th>\n",
       "      <th>strain</th>\n",
       "      <th>virus</th>\n",
       "      <th>gisaid_epi_isl</th>\n",
       "      <th>genbank_accession</th>\n",
       "      <th>date</th>\n",
       "      <th>region</th>\n",
       "      <th>country</th>\n",
       "      <th>division</th>\n",
       "      <th>location</th>\n",
       "      <th>region_exposure</th>\n",
       "      <th>...</th>\n",
       "      <th>Nextstrain_clade</th>\n",
       "      <th>pangolin_lineage</th>\n",
       "      <th>GISAID_clade</th>\n",
       "      <th>originating_lab</th>\n",
       "      <th>submitting_lab</th>\n",
       "      <th>authors</th>\n",
       "      <th>url</th>\n",
       "      <th>title</th>\n",
       "      <th>paper_url</th>\n",
       "      <th>date_submitted</th>\n",
       "    </tr>\n",
       "  </thead>\n",
       "  <tbody>\n",
       "    <tr>\n",
       "      <th>0</th>\n",
       "      <td>Algeria/G0638_2264/2020</td>\n",
       "      <td>ncov</td>\n",
       "      <td>EPI_ISL_418241</td>\n",
       "      <td>?</td>\n",
       "      <td>2020-03-02</td>\n",
       "      <td>Africa</td>\n",
       "      <td>Algeria</td>\n",
       "      <td>Boufarik</td>\n",
       "      <td>NaN</td>\n",
       "      <td>Africa</td>\n",
       "      <td>...</td>\n",
       "      <td>20C</td>\n",
       "      <td>B.1</td>\n",
       "      <td>GH</td>\n",
       "      <td>NIC Viral Respiratory Unit - Institut Pasteur ...</td>\n",
       "      <td>National Reference Center for Viruses of Respi...</td>\n",
       "      <td>Mélanie Albert et al</td>\n",
       "      <td>https://www.gisaid.org</td>\n",
       "      <td>?</td>\n",
       "      <td>?</td>\n",
       "      <td>2020-03-29</td>\n",
       "    </tr>\n",
       "    <tr>\n",
       "      <th>1</th>\n",
       "      <td>Algeria/G0640_2265/2020</td>\n",
       "      <td>ncov</td>\n",
       "      <td>EPI_ISL_418242</td>\n",
       "      <td>?</td>\n",
       "      <td>2020-03-08</td>\n",
       "      <td>Africa</td>\n",
       "      <td>Algeria</td>\n",
       "      <td>Blida</td>\n",
       "      <td>NaN</td>\n",
       "      <td>Africa</td>\n",
       "      <td>...</td>\n",
       "      <td>20C</td>\n",
       "      <td>B.1</td>\n",
       "      <td>GH</td>\n",
       "      <td>NIC Viral Respiratory Unit - Institut Pasteur ...</td>\n",
       "      <td>National Reference Center for Viruses of Respi...</td>\n",
       "      <td>Mélanie Albert et al</td>\n",
       "      <td>https://www.gisaid.org</td>\n",
       "      <td>?</td>\n",
       "      <td>?</td>\n",
       "      <td>2020-03-29</td>\n",
       "    </tr>\n",
       "    <tr>\n",
       "      <th>2</th>\n",
       "      <td>Algeria/G0860_2262/2020</td>\n",
       "      <td>ncov</td>\n",
       "      <td>EPI_ISL_420037</td>\n",
       "      <td>?</td>\n",
       "      <td>2020-03-02</td>\n",
       "      <td>Africa</td>\n",
       "      <td>Algeria</td>\n",
       "      <td>Boufarik</td>\n",
       "      <td>NaN</td>\n",
       "      <td>Africa</td>\n",
       "      <td>...</td>\n",
       "      <td>20C</td>\n",
       "      <td>B.1</td>\n",
       "      <td>GH</td>\n",
       "      <td>NIC Viral Respiratory Unit - Institut Pasteur ...</td>\n",
       "      <td>National Reference Center for Viruses of Respi...</td>\n",
       "      <td>Mélanie Albert et al</td>\n",
       "      <td>https://www.gisaid.org</td>\n",
       "      <td>?</td>\n",
       "      <td>?</td>\n",
       "      <td>2020-04-04</td>\n",
       "    </tr>\n",
       "    <tr>\n",
       "      <th>3</th>\n",
       "      <td>Andorra/202552/2020</td>\n",
       "      <td>ncov</td>\n",
       "      <td>EPI_ISL_539496</td>\n",
       "      <td>?</td>\n",
       "      <td>2020-03-13</td>\n",
       "      <td>Europe</td>\n",
       "      <td>Andorra</td>\n",
       "      <td>Andorra</td>\n",
       "      <td>NaN</td>\n",
       "      <td>Europe</td>\n",
       "      <td>...</td>\n",
       "      <td>20A</td>\n",
       "      <td>B.1.5</td>\n",
       "      <td>O</td>\n",
       "      <td>Hospital Nostra Senyora de Meritxell</td>\n",
       "      <td>Instituto de Salud Carlos III</td>\n",
       "      <td>Iglesias-Caballero et al</td>\n",
       "      <td>https://www.gisaid.org</td>\n",
       "      <td>?</td>\n",
       "      <td>?</td>\n",
       "      <td>2020-09-18</td>\n",
       "    </tr>\n",
       "    <tr>\n",
       "      <th>4</th>\n",
       "      <td>Anhui/SZ005/2020</td>\n",
       "      <td>ncov</td>\n",
       "      <td>EPI_ISL_413485</td>\n",
       "      <td>?</td>\n",
       "      <td>2020-01-24</td>\n",
       "      <td>Asia</td>\n",
       "      <td>China</td>\n",
       "      <td>Anhui</td>\n",
       "      <td>Suzhou</td>\n",
       "      <td>Asia</td>\n",
       "      <td>...</td>\n",
       "      <td>19B</td>\n",
       "      <td>A</td>\n",
       "      <td>S</td>\n",
       "      <td>Department of microbiology laboratory,Anhui Pr...</td>\n",
       "      <td>Department of microbiology laboratory,Anhui Pr...</td>\n",
       "      <td>Weiwei Li et al</td>\n",
       "      <td>https://www.gisaid.org</td>\n",
       "      <td>?</td>\n",
       "      <td>?</td>\n",
       "      <td>2020-03-05</td>\n",
       "    </tr>\n",
       "  </tbody>\n",
       "</table>\n",
       "<p>5 rows × 27 columns</p>\n",
       "</div>"
      ],
      "text/plain": [
       "                    strain virus  gisaid_epi_isl genbank_accession  \\\n",
       "0  Algeria/G0638_2264/2020  ncov  EPI_ISL_418241                 ?   \n",
       "1  Algeria/G0640_2265/2020  ncov  EPI_ISL_418242                 ?   \n",
       "2  Algeria/G0860_2262/2020  ncov  EPI_ISL_420037                 ?   \n",
       "3      Andorra/202552/2020  ncov  EPI_ISL_539496                 ?   \n",
       "4         Anhui/SZ005/2020  ncov  EPI_ISL_413485                 ?   \n",
       "\n",
       "         date  region  country  division location region_exposure  ...  \\\n",
       "0  2020-03-02  Africa  Algeria  Boufarik      NaN          Africa  ...   \n",
       "1  2020-03-08  Africa  Algeria     Blida      NaN          Africa  ...   \n",
       "2  2020-03-02  Africa  Algeria  Boufarik      NaN          Africa  ...   \n",
       "3  2020-03-13  Europe  Andorra   Andorra      NaN          Europe  ...   \n",
       "4  2020-01-24    Asia    China     Anhui   Suzhou            Asia  ...   \n",
       "\n",
       "  Nextstrain_clade pangolin_lineage GISAID_clade  \\\n",
       "0              20C              B.1           GH   \n",
       "1              20C              B.1           GH   \n",
       "2              20C              B.1           GH   \n",
       "3              20A            B.1.5            O   \n",
       "4              19B                A            S   \n",
       "\n",
       "                                     originating_lab  \\\n",
       "0  NIC Viral Respiratory Unit - Institut Pasteur ...   \n",
       "1  NIC Viral Respiratory Unit - Institut Pasteur ...   \n",
       "2  NIC Viral Respiratory Unit - Institut Pasteur ...   \n",
       "3               Hospital Nostra Senyora de Meritxell   \n",
       "4  Department of microbiology laboratory,Anhui Pr...   \n",
       "\n",
       "                                      submitting_lab  \\\n",
       "0  National Reference Center for Viruses of Respi...   \n",
       "1  National Reference Center for Viruses of Respi...   \n",
       "2  National Reference Center for Viruses of Respi...   \n",
       "3                      Instituto de Salud Carlos III   \n",
       "4  Department of microbiology laboratory,Anhui Pr...   \n",
       "\n",
       "                    authors                     url title paper_url  \\\n",
       "0      Mélanie Albert et al  https://www.gisaid.org     ?         ?   \n",
       "1      Mélanie Albert et al  https://www.gisaid.org     ?         ?   \n",
       "2      Mélanie Albert et al  https://www.gisaid.org     ?         ?   \n",
       "3  Iglesias-Caballero et al  https://www.gisaid.org     ?         ?   \n",
       "4           Weiwei Li et al  https://www.gisaid.org     ?         ?   \n",
       "\n",
       "  date_submitted  \n",
       "0     2020-03-29  \n",
       "1     2020-03-29  \n",
       "2     2020-04-04  \n",
       "3     2020-09-18  \n",
       "4     2020-03-05  \n",
       "\n",
       "[5 rows x 27 columns]"
      ]
     },
     "execution_count": 5,
     "metadata": {},
     "output_type": "execute_result"
    }
   ],
   "source": [
    "data.head()"
   ]
  },
  {
   "cell_type": "markdown",
   "metadata": {},
   "source": [
    "## Selecting featured countries\n",
    "\n",
    "Select countries with less then 10k sequences and draw hist of number of sequences (to select bounds for featured)"
   ]
  },
  {
   "cell_type": "code",
   "execution_count": 431,
   "metadata": {},
   "outputs": [
    {
     "data": {
      "image/png": "[encoded data removed]",
      "text/plain": [
       "<Figure size 432x288 with 1 Axes>"
      ]
     },
     "metadata": {
      "needs_background": "light"
     },
     "output_type": "display_data"
    }
   ],
   "source": [
    "from collections import Counter\n",
    "import matplotlib.pyplot as plt\n",
    "counted = Counter(data['country'])\n",
    "cnt = list(filter(lambda x: x < 10000, counted.values()))\n",
    "plt.hist(list(cnt))\n",
    "plt.xlabel('sequences num')\n",
    "plt.ylabel('occurrences')\n",
    "plt.show()"
   ]
  },
  {
   "cell_type": "code",
   "execution_count": 11,
   "metadata": {},
   "outputs": [
    {
     "data": {
      "text/plain": [
       "[('Australia', 16540),\n",
       " ('Belgium', 2731),\n",
       " ('Netherlands', 4587),\n",
       " ('Canada', 3604),\n",
       " ('Denmark', 16790),\n",
       " ('United Kingdom', 137179),\n",
       " ('France', 2726),\n",
       " ('India', 4236),\n",
       " ('Japan', 9649),\n",
       " ('Portugal', 2203),\n",
       " ('USA', 52254),\n",
       " ('South Africa', 2801),\n",
       " ('Spain', 5612),\n",
       " ('Switzerland', 4953)]"
      ]
     },
     "execution_count": 11,
     "metadata": {},
     "output_type": "execute_result"
    }
   ],
   "source": [
    "list(filter(lambda x: x[1] > 2000, dict(counted).items()))"
   ]
  },
  {
   "cell_type": "markdown",
   "metadata": {},
   "source": [
    "Manually select featured: small countries with many secuences processed"
   ]
  },
  {
   "cell_type": "code",
   "execution_count": 515,
   "metadata": {},
   "outputs": [],
   "source": [
    "top_countries = ['Belgium', 'Netherlands', 'Denmark', 'France', 'Japan', 'Portugal', 'Spain', 'Switzerland'] # 'South Africa'"
   ]
  },
  {
   "cell_type": "markdown",
   "metadata": {},
   "source": [
    "## Prepare country-separated data"
   ]
  },
  {
   "cell_type": "code",
   "execution_count": 13,
   "metadata": {},
   "outputs": [],
   "source": [
    "from collections import defaultdict\n",
    "top_countries_dict = data.loc[data['country'].isin(top_countries)]['country'].to_dict()\n",
    "grouped_ids = defaultdict(set)\n",
    "for k, v in top_countries_dict.items():\n",
    "    grouped_ids[v].add(k)"
   ]
  },
  {
   "cell_type": "code",
   "execution_count": 72,
   "metadata": {},
   "outputs": [],
   "source": [
    "def create_country_file(country):\n",
    "    with open('COVID data/msa_1229/msa_1229.fasta') as f:\n",
    "        meta = f.readline()\n",
    "        v = 0\n",
    "\n",
    "        while meta:\n",
    "            sequence = f.readline()\n",
    "            if country in meta:\n",
    "                with open(f\"COVID data/msa_1229/countries/{country}.fasta\", \"a+\") as cf:\n",
    "                    cf.writelines([meta, sequence])\n",
    "            v += 1\n",
    "\n",
    "            meta = f.readline()\n",
    "\n",
    "    print(v)"
   ]
  },
  {
   "cell_type": "code",
   "execution_count": 73,
   "metadata": {},
   "outputs": [
    {
     "name": "stdout",
     "output_type": "stream",
     "text": [
      "276018\n"
     ]
    }
   ],
   "source": [
    "create_country_file(\"Belgium\")"
   ]
  },
  {
   "cell_type": "code",
   "execution_count": 31,
   "metadata": {},
   "outputs": [],
   "source": [
    "metas = 0\n",
    "v = 0\n",
    "ids = set(data.loc[data['country'] == 'Belgium']['strain'].tolist())\n",
    "\n",
    "bel_ids = set()\n",
    "\n",
    "with open('COVID data/msa_1229/msa_1229.fasta') as f:\n",
    "    meta = f.readline()\n",
    "    while meta:\n",
    "        sequence = f.readline()\n",
    "        id_ = meta.split(\"|\")[0][9:]\n",
    "        if id_ in ids:\n",
    "            bel_ids.add(id_)\n",
    "        \n",
    "        meta = f.readline()"
   ]
  },
  {
   "cell_type": "code",
   "execution_count": 17,
   "metadata": {},
   "outputs": [],
   "source": [
    "belgium = []\n",
    "metas = []\n",
    "common_len = 0\n",
    "with open(\"COVID data/Belgium.fasta\", \"r\") as cf:\n",
    "    meta = cf.readline()\n",
    "    while meta:\n",
    "        seq = cf.readline()\n",
    "        metas.append(meta)\n",
    "        belgium.append(seq)  \n",
    "        meta = cf.readline()\n",
    "    \n",
    "print(len(belgium))\n",
    "\n",
    "final_sequences = []\n",
    "spaces = []\n",
    "for seq in tqdm(list(zip(*belgium))):\n",
    "    spaces.append(seq.count('-') * 1.0 / len(seq))\n",
    "    if seq.count('-') * 1.0 / len(seq) > 0.1:\n",
    "        continue\n",
    "    final_sequences.append(seq)\n",
    "print((final_sequences))"
   ]
  },
  {
   "cell_type": "code",
   "execution_count": 77,
   "metadata": {},
   "outputs": [
    {
     "data": {
      "image/png": "[encoded data removed]",
      "text/plain": [
       "<Figure size 432x288 with 1 Axes>"
      ]
     },
     "metadata": {
      "needs_background": "light"
     },
     "output_type": "display_data"
    }
   ],
   "source": [
    "plt.hist(spaces)\n",
    "plt.show()"
   ]
  },
  {
   "cell_type": "markdown",
   "metadata": {},
   "source": [
    "## Sequences analysis\n",
    "\n",
    "Draw hist for some subtrees and trendline to understend dynamics of key mutations distrubution"
   ]
  },
  {
   "cell_type": "code",
   "execution_count": 5,
   "metadata": {},
   "outputs": [],
   "source": [
    "import io\n",
    "from newick import load\n",
    "\n",
    "def load_tree(path):\n",
    "    with io.open(path, encoding='utf8') as fp:\n",
    "        return load(fp)[0]"
   ]
  },
  {
   "cell_type": "code",
   "execution_count": 3,
   "metadata": {},
   "outputs": [],
   "source": [
    "from collections import defaultdict\n",
    "from datetime import datetime\n",
    "import matplotlib.pyplot as plt\n",
    "import matplotlib.dates as mdates\n",
    "import numpy as np\n",
    "\n",
    "def get_date_from_meta(meta):\n",
    "    return meta.split(\"|\")[2]\n",
    "\n",
    "def get_id_from_meta(meta):\n",
    "    return meta.split(\"/\")[2]\n",
    "\n",
    "def get_timestamp(date: str):\n",
    "    return mdates.epoch2num(datetime.strptime(date, '%Y-%m-%d').timestamp())\n",
    "\n",
    "def generate_bins_from_dates(start_date, end_date, timerange):\n",
    "    start = pd.Timestamp(start_date)\n",
    "    end = pd.Timestamp(end_date)\n",
    "    parts = list(pd.date_range(start, end, freq=timerange))\n",
    "    parts_with_borders = []\n",
    "    if len(parts) != 0:\n",
    "        parts_with_borders = [parts[0] - pd.to_timedelta(timerange)] + parts + \\\n",
    "            [parts[-1] + pd.to_timedelta(timerange)]\n",
    "    else: #fix only for one week timerange\n",
    "        number_of_days = int(start.weekday()) + 1\n",
    "        parts = [start - pd.to_timedelta(f'{number_of_days}d')]\n",
    "        parts_with_borders = parts + [parts[-1] + pd.to_timedelta(timerange)]\n",
    "        \n",
    "    return list(map(lambda x: x.to_pydatetime().timestamp(), parts_with_borders))\n",
    "\n",
    "\n",
    "def show_hist(n, bins, polynom=None, approx_polynom=None, width=1):\n",
    "    fig, ax = plt.subplots(1,1)\n",
    "    ax.bar(bins[:-1], n, width=width)\n",
    "    ax.xaxis.set_major_formatter(mdates.DateFormatter('%d.%m'))\n",
    "    if polynom is not None:\n",
    "        ax.plot(bins, polynom(bins), \"r--\")\n",
    "    plt.xlabel('date')\n",
    "    plt.ylabel('%')\n",
    "    if approx_polynom is not None:\n",
    "        y = [np.polyval(approx_polynom, i - bins[0]) for i in bins]\n",
    "        ax.plot(bins, y)\n",
    "    plt.show()\n",
    "\n",
    "def prepare_hist(leaves):\n",
    "#     bounds = (get_timestamp('2019-12-24'), get_timestamp('2021-01-10'))\n",
    "    dates = []\n",
    "    for leaf in leaves:\n",
    "        date = ''\n",
    "        try:\n",
    "#             dates.append(datetime.strptime(get_date_from_meta(leaf), '%Y-%m-%d'))\n",
    "            #For Global\n",
    "            date = data.loc[data['strain'] == leaf[1:-1], 'date'].iloc[0]\n",
    "#             print(leaf)\n",
    "#             print(date)\n",
    "            dates.append(datetime.strptime(get_date_from_meta(date), '%Y-%m-%d'))\n",
    "        except:\n",
    "            try:\n",
    "#                 dates.append(datetime.strptime(get_date_from_meta(date), '%Y-%m-00'))\n",
    "                #For Global\n",
    "                date = data.loc[data['strain'] == leaf[1:-1], 'date'].iloc[0]\n",
    "#                 print(leaf)\n",
    "#                 print(date)\n",
    "                dates.append(datetime.strptime(get_date_from_meta(date), '%Y-%m-00'))\n",
    "            except:\n",
    "                pass\n",
    "#     print(dates)\n",
    "    if len(dates) == 0:\n",
    "        print(leaves)\n",
    "    bins = list(map(mdates.epoch2num, generate_bins_from_dates(min(dates), max(dates), '1w')))\n",
    "    return np.histogram(list(map(lambda x: mdates.epoch2num(x.timestamp()), dates)), bins=bins)\n",
    "    \n",
    "def get_date_histogramm_by_subtree(leaves, totals, force_draw=False, min_k=0.02):\n",
    "    ns, bins = prepare_hist(leaves)\n",
    "    n1 = []\n",
    "    for n, b in zip (ns, bins):\n",
    "        n1.append(n / totals[b] * 100 if n != 0 else 0)\n",
    "    ns = n1\n",
    "# #     print(m)\n",
    "# #     ns = np.vectorize(lambda x: x * m / approx_p(x))(ns)\n",
    "#     n1 = []\n",
    "#     for n, x in zip(ns, bins):\n",
    "#         t = n + (m - approx_p(x - s))\n",
    "# #         print(n, approx_p(x - s), t)\n",
    "#         n1.append(t)\n",
    "#     ns=n1\n",
    "    \n",
    "    z = np.polyfit(bins[:-1], ns, 1)\n",
    "    p = np.poly1d(z)\n",
    "    return (z, ns, bins, p)\n",
    "#     if z[0] > min_k or force_draw:\n",
    "#         print(f'Subtree size: {len(leaves)}')\n",
    "#         print(f'Trendline coefficient: {z[0]}')\n",
    "#         p = np.poly1d(z)\n",
    "#         show_hist(ns, bins, p)\n",
    "        \n",
    "def prepare_approx(n, bins):\n",
    "    approx = np.polyfit(bins[:-1] - bins[0], n, 10)\n",
    "    return np.poly1d(approx), n.mean()\n",
    "\n",
    "def prepare_totals(tree):\n",
    "    leaves = tree.get_leaf_names()\n",
    "    ns, bins = prepare_hist(leaves)\n",
    "    return {b: n for n, b in zip(ns, bins)}"
   ]
  },
  {
   "cell_type": "code",
   "execution_count": 761,
   "metadata": {},
   "outputs": [
    {
     "name": "stdout",
     "output_type": "stream",
     "text": [
      "Subtree size: 2587\n",
      "Trendline coefficient: 0.08053961542343485\n"
     ]
    },
    {
     "data": {
      "image/png": "[encoded data removed]",
      "text/plain": [
       "<Figure size 432x288 with 1 Axes>"
      ]
     },
     "metadata": {
      "needs_background": "light"
     },
     "output_type": "display_data"
    }
   ],
   "source": [
    "leaves = tree2.get_leaf_names()\n",
    "# n, bins = prepare_hist(leaves)\n",
    "# approx_p, m = prepare_approx(n, bins)\n",
    "totals = prepare_totals(tree2)\n",
    "draw_date_histogramm_by_subtree(leaves, totals, force_draw=True)"
   ]
  },
  {
   "cell_type": "code",
   "execution_count": 644,
   "metadata": {
    "collapsed": true
   },
   "outputs": [
    {
     "name": "stdout",
     "output_type": "stream",
     "text": [
      "51.74\n",
      "Subtree size: 2587\n",
      "Trendline coefficient: 0.028486642181781287\n"
     ]
    },
    {
     "data": {
      "image/png": "[encoded data removed]",
      "text/plain": [
       "<Figure size 432x288 with 1 Axes>"
      ]
     },
     "metadata": {
      "needs_background": "light"
     },
     "output_type": "display_data"
    }
   ],
   "source": [
    "leaves = tree2.get_leaf_names()\n",
    "n, bins = prepare_hist(leaves, 50)\n",
    "approx_p, m = prepare_approx(n, bins)\n",
    "draw_date_histogramm_by_subtree(leaves, approx_p, m, bins[0], force_draw=True)"
   ]
  },
  {
   "cell_type": "code",
   "execution_count": 6,
   "metadata": {
    "scrolled": true
   },
   "outputs": [
    {
     "name": "stdout",
     "output_type": "stream",
     "text": [
      "\n",
      "\n",
      "Global\n",
      "\n"
     ]
    },
    {
     "name": "stderr",
     "output_type": "stream",
     "text": [
      "IOPub data rate exceeded.\n",
      "The notebook server will temporarily stop sending output\n",
      "to the client in order to avoid crashing it.\n",
      "To change this limit, set the config variable\n",
      "`--NotebookApp.iopub_data_rate_limit`.\n",
      "\n",
      "Current values:\n",
      "NotebookApp.iopub_data_rate_limit=1000000.0 (bytes/sec)\n",
      "NotebookApp.rate_limit_window=3.0 (secs)\n",
      "\n"
     ]
    },
    {
     "ename": "ValueError",
     "evalue": "min() arg is an empty sequence",
     "output_type": "error",
     "traceback": [
      "\u001b[0;31m---------------------------------------------------------------------------\u001b[0m",
      "\u001b[0;31mValueError\u001b[0m                                Traceback (most recent call last)",
      "\u001b[0;32m<ipython-input-6-57aa151bed52>\u001b[0m in \u001b[0;36m<module>\u001b[0;34m\u001b[0m\n\u001b[1;32m     32\u001b[0m     \u001b[0mprint\u001b[0m\u001b[0;34m(\u001b[0m\u001b[0;34mf'\\n\\n{country}\\n'\u001b[0m\u001b[0;34m)\u001b[0m\u001b[0;34m\u001b[0m\u001b[0m\n\u001b[1;32m     33\u001b[0m     \u001b[0mtree\u001b[0m \u001b[0;34m=\u001b[0m \u001b[0mload_tree\u001b[0m\u001b[0;34m(\u001b[0m\u001b[0mos\u001b[0m\u001b[0;34m.\u001b[0m\u001b[0mpath\u001b[0m\u001b[0;34m.\u001b[0m\u001b[0mjoin\u001b[0m\u001b[0;34m(\u001b[0m\u001b[0;34m'COVID data'\u001b[0m\u001b[0;34m,\u001b[0m \u001b[0;34m'countries'\u001b[0m\u001b[0;34m,\u001b[0m \u001b[0mcountry\u001b[0m\u001b[0;34m,\u001b[0m \u001b[0;34m'tree.nwk'\u001b[0m\u001b[0;34m)\u001b[0m\u001b[0;34m)\u001b[0m\u001b[0;34m\u001b[0m\u001b[0m\n\u001b[0;32m---> 34\u001b[0;31m     \u001b[0manalyze_subtrees\u001b[0m\u001b[0;34m(\u001b[0m\u001b[0mtree\u001b[0m\u001b[0;34m)\u001b[0m\u001b[0;34m\u001b[0m\u001b[0m\n\u001b[0m",
      "\u001b[0;32m<ipython-input-6-57aa151bed52>\u001b[0m in \u001b[0;36manalyze_subtrees\u001b[0;34m(tree, size_range, N)\u001b[0m\n\u001b[1;32m     12\u001b[0m \u001b[0;34m\u001b[0m\u001b[0m\n\u001b[1;32m     13\u001b[0m \u001b[0;32mdef\u001b[0m \u001b[0manalyze_subtrees\u001b[0m\u001b[0;34m(\u001b[0m\u001b[0mtree\u001b[0m\u001b[0;34m,\u001b[0m \u001b[0msize_range\u001b[0m\u001b[0;34m=\u001b[0m\u001b[0;34m(\u001b[0m\u001b[0;36m500\u001b[0m\u001b[0;34m,\u001b[0m \u001b[0;36m1000\u001b[0m\u001b[0;34m)\u001b[0m\u001b[0;34m,\u001b[0m \u001b[0mN\u001b[0m\u001b[0;34m=\u001b[0m\u001b[0;36m10\u001b[0m\u001b[0;34m)\u001b[0m\u001b[0;34m:\u001b[0m\u001b[0;34m\u001b[0m\u001b[0m\n\u001b[0;32m---> 14\u001b[0;31m     \u001b[0mn\u001b[0m\u001b[0;34m,\u001b[0m \u001b[0mbins\u001b[0m \u001b[0;34m=\u001b[0m \u001b[0mprepare_hist\u001b[0m\u001b[0;34m(\u001b[0m\u001b[0mtree\u001b[0m\u001b[0;34m.\u001b[0m\u001b[0mget_leaf_names\u001b[0m\u001b[0;34m(\u001b[0m\u001b[0;34m)\u001b[0m\u001b[0;34m)\u001b[0m\u001b[0;34m\u001b[0m\u001b[0m\n\u001b[0m\u001b[1;32m     15\u001b[0m \u001b[0;31m#     approx_p, m = prepare_approx(n, bins)\u001b[0m\u001b[0;34m\u001b[0m\u001b[0;34m\u001b[0m\u001b[0m\n\u001b[1;32m     16\u001b[0m     \u001b[0mtotals\u001b[0m \u001b[0;34m=\u001b[0m \u001b[0mprepare_totals\u001b[0m\u001b[0;34m(\u001b[0m\u001b[0mtree\u001b[0m\u001b[0;34m)\u001b[0m\u001b[0;34m\u001b[0m\u001b[0m\n",
      "\u001b[0;32m<ipython-input-3-80a5754b8c65>\u001b[0m in \u001b[0;36mprepare_hist\u001b[0;34m(leaves)\u001b[0m\n\u001b[1;32m     68\u001b[0m     \u001b[0;32mif\u001b[0m \u001b[0mlen\u001b[0m\u001b[0;34m(\u001b[0m\u001b[0mdates\u001b[0m\u001b[0;34m)\u001b[0m \u001b[0;34m==\u001b[0m \u001b[0;36m0\u001b[0m\u001b[0;34m:\u001b[0m\u001b[0;34m\u001b[0m\u001b[0m\n\u001b[1;32m     69\u001b[0m         \u001b[0mprint\u001b[0m\u001b[0;34m(\u001b[0m\u001b[0mleaves\u001b[0m\u001b[0;34m)\u001b[0m\u001b[0;34m\u001b[0m\u001b[0m\n\u001b[0;32m---> 70\u001b[0;31m     \u001b[0mbins\u001b[0m \u001b[0;34m=\u001b[0m \u001b[0mlist\u001b[0m\u001b[0;34m(\u001b[0m\u001b[0mmap\u001b[0m\u001b[0;34m(\u001b[0m\u001b[0mmdates\u001b[0m\u001b[0;34m.\u001b[0m\u001b[0mepoch2num\u001b[0m\u001b[0;34m,\u001b[0m \u001b[0mgenerate_bins_from_dates\u001b[0m\u001b[0;34m(\u001b[0m\u001b[0mmin\u001b[0m\u001b[0;34m(\u001b[0m\u001b[0mdates\u001b[0m\u001b[0;34m)\u001b[0m\u001b[0;34m,\u001b[0m \u001b[0mmax\u001b[0m\u001b[0;34m(\u001b[0m\u001b[0mdates\u001b[0m\u001b[0;34m)\u001b[0m\u001b[0;34m,\u001b[0m \u001b[0;34m'1w'\u001b[0m\u001b[0;34m)\u001b[0m\u001b[0;34m)\u001b[0m\u001b[0;34m)\u001b[0m\u001b[0;34m\u001b[0m\u001b[0m\n\u001b[0m\u001b[1;32m     71\u001b[0m     \u001b[0;32mreturn\u001b[0m \u001b[0mnp\u001b[0m\u001b[0;34m.\u001b[0m\u001b[0mhistogram\u001b[0m\u001b[0;34m(\u001b[0m\u001b[0mlist\u001b[0m\u001b[0;34m(\u001b[0m\u001b[0mmap\u001b[0m\u001b[0;34m(\u001b[0m\u001b[0;32mlambda\u001b[0m \u001b[0mx\u001b[0m\u001b[0;34m:\u001b[0m \u001b[0mmdates\u001b[0m\u001b[0;34m.\u001b[0m\u001b[0mepoch2num\u001b[0m\u001b[0;34m(\u001b[0m\u001b[0mx\u001b[0m\u001b[0;34m.\u001b[0m\u001b[0mtimestamp\u001b[0m\u001b[0;34m(\u001b[0m\u001b[0;34m)\u001b[0m\u001b[0;34m)\u001b[0m\u001b[0;34m,\u001b[0m \u001b[0mdates\u001b[0m\u001b[0;34m)\u001b[0m\u001b[0;34m)\u001b[0m\u001b[0;34m,\u001b[0m \u001b[0mbins\u001b[0m\u001b[0;34m=\u001b[0m\u001b[0mbins\u001b[0m\u001b[0;34m)\u001b[0m\u001b[0;34m\u001b[0m\u001b[0m\n\u001b[1;32m     72\u001b[0m \u001b[0;34m\u001b[0m\u001b[0m\n",
      "\u001b[0;31mValueError\u001b[0m: min() arg is an empty sequence"
     ]
    }
   ],
   "source": [
    "import os\n",
    "\n",
    "def _dig(node, stop_fn):\n",
    "    if not stop_fn(node):\n",
    "        res = []\n",
    "        for descendant in node.descendants:\n",
    "            if not descendant.is_leaf:\n",
    "                res += _dig(descendant, stop_fn)\n",
    "        return res\n",
    "    else:\n",
    "        return [node]\n",
    "\n",
    "def analyze_subtrees(tree, size_range=(500, 1000), N=10):\n",
    "    n, bins = prepare_hist(tree.get_leaf_names())\n",
    "#     approx_p, m = prepare_approx(n, bins)\n",
    "    totals = prepare_totals(tree)\n",
    "    histogramms_with_coefficients = []\n",
    "    for i in _dig(tree, lambda node: len(node.get_leaves()) < size_range[1]):\n",
    "        leaves = i.get_leaf_names()\n",
    "        if len(leaves) < size_range[0]:\n",
    "            continue\n",
    "#         (z, ns, bins, p) = get_date_histogramm_by_subtree(leaves, totals, min_k=0)\n",
    "        histogramms_with_coefficients.append(get_date_histogramm_by_subtree(leaves, totals, min_k=0))\n",
    "    \n",
    "    top_n = sorted(histogramms_with_coefficients, key = lambda x: x[0][0], reverse = True)[:N] \n",
    "    for z, ns, bins, p in top_n:\n",
    "        print(f'Trendline coefficient: {z[0]}')\n",
    "        show_hist(ns, bins, p)\n",
    "\n",
    "\n",
    "for country in ['Global']:#top_countries:\n",
    "    print(f'\\n\\n{country}\\n')\n",
    "    tree = load_tree(os.path.join('COVID data', 'countries', country, 'tree.nwk'))\n",
    "    analyze_subtrees(tree)"
   ]
  },
  {
   "cell_type": "code",
   "execution_count": 17,
   "metadata": {},
   "outputs": [
    {
     "data": {
      "text/plain": [
       "[(0.234, 34), (0.12, 23), (-0.14, 4), (-1.3, 234)]"
      ]
     },
     "execution_count": 17,
     "metadata": {},
     "output_type": "execute_result"
    }
   ],
   "source": [
    "import heapq\n",
    "import operator\n",
    "\n",
    "d = [(0.234, 34), (-0.14, 4), (-1.3, 234), (0.12, 23)]\n",
    "\n",
    "# zip(*heapq.nlargest(2, enumerate(d), key=operator.itemgetter(1)))[0]\n",
    "res = sorted(d, key = operator.itemgetter(0), reverse = True)[:5] \n",
    "res"
   ]
  },
  {
   "cell_type": "code",
   "execution_count": 666,
   "metadata": {
    "scrolled": true
   },
   "outputs": [],
   "source": [
    "# tree = load_tree(os.path.join('COVID data', 'countries', 'Denmark', 'tree.nwk'))\n",
    "analyze_subtrees(tree, size_range=(300, 1000))"
   ]
  },
  {
   "cell_type": "code",
   "execution_count": 773,
   "metadata": {},
   "outputs": [],
   "source": [
    "cog_meta = pd.read_csv('COVID data/cog_metadata.csv', header=0)"
   ]
  },
  {
   "cell_type": "code",
   "execution_count": 774,
   "metadata": {},
   "outputs": [
    {
     "data": {
      "text/html": [
       "<div>\n",
       "<style scoped>\n",
       "    .dataframe tbody tr th:only-of-type {\n",
       "        vertical-align: middle;\n",
       "    }\n",
       "\n",
       "    .dataframe tbody tr th {\n",
       "        vertical-align: top;\n",
       "    }\n",
       "\n",
       "    .dataframe thead th {\n",
       "        text-align: right;\n",
       "    }\n",
       "</style>\n",
       "<table border=\"1\" class=\"dataframe\">\n",
       "  <thead>\n",
       "    <tr style=\"text-align: right;\">\n",
       "      <th></th>\n",
       "      <th>sequence_name</th>\n",
       "      <th>country</th>\n",
       "      <th>adm1</th>\n",
       "      <th>pillar_2</th>\n",
       "      <th>sample_date</th>\n",
       "      <th>epi_week</th>\n",
       "      <th>lineage</th>\n",
       "      <th>lineage_support</th>\n",
       "      <th>d614g</th>\n",
       "      <th>n439k</th>\n",
       "      <th>p323l</th>\n",
       "      <th>a222v</th>\n",
       "      <th>y453f</th>\n",
       "      <th>n501y</th>\n",
       "      <th>t1001i</th>\n",
       "      <th>p681h</th>\n",
       "      <th>q27stop</th>\n",
       "      <th>del_21765_6</th>\n",
       "    </tr>\n",
       "  </thead>\n",
       "  <tbody>\n",
       "    <tr>\n",
       "      <th>0</th>\n",
       "      <td>England/EXET-13F5DB/2020</td>\n",
       "      <td>UK</td>\n",
       "      <td>UK-ENG</td>\n",
       "      <td>False</td>\n",
       "      <td>2020-12-18</td>\n",
       "      <td>51</td>\n",
       "      <td>B.1.177.9</td>\n",
       "      <td>1.0</td>\n",
       "      <td>G</td>\n",
       "      <td>N</td>\n",
       "      <td>L</td>\n",
       "      <td>V</td>\n",
       "      <td>Y</td>\n",
       "      <td>N</td>\n",
       "      <td>T</td>\n",
       "      <td>P</td>\n",
       "      <td>Q</td>\n",
       "      <td>ref</td>\n",
       "    </tr>\n",
       "    <tr>\n",
       "      <th>1</th>\n",
       "      <td>England/EXET-136932/2020</td>\n",
       "      <td>UK</td>\n",
       "      <td>UK-ENG</td>\n",
       "      <td>False</td>\n",
       "      <td>2020-12-16</td>\n",
       "      <td>51</td>\n",
       "      <td>NaN</td>\n",
       "      <td>NaN</td>\n",
       "      <td>G</td>\n",
       "      <td>X</td>\n",
       "      <td>X</td>\n",
       "      <td>X</td>\n",
       "      <td>X</td>\n",
       "      <td>X</td>\n",
       "      <td>T</td>\n",
       "      <td>X</td>\n",
       "      <td>Q</td>\n",
       "      <td>ref</td>\n",
       "    </tr>\n",
       "    <tr>\n",
       "      <th>2</th>\n",
       "      <td>England/EXET-13F76C/2020</td>\n",
       "      <td>UK</td>\n",
       "      <td>UK-ENG</td>\n",
       "      <td>False</td>\n",
       "      <td>2020-12-18</td>\n",
       "      <td>51</td>\n",
       "      <td>B.1.177</td>\n",
       "      <td>1.0</td>\n",
       "      <td>G</td>\n",
       "      <td>N</td>\n",
       "      <td>L</td>\n",
       "      <td>V</td>\n",
       "      <td>Y</td>\n",
       "      <td>N</td>\n",
       "      <td>T</td>\n",
       "      <td>P</td>\n",
       "      <td>Q</td>\n",
       "      <td>ref</td>\n",
       "    </tr>\n",
       "    <tr>\n",
       "      <th>3</th>\n",
       "      <td>England/EXET-13F5AE/2020</td>\n",
       "      <td>UK</td>\n",
       "      <td>UK-ENG</td>\n",
       "      <td>False</td>\n",
       "      <td>2020-12-18</td>\n",
       "      <td>51</td>\n",
       "      <td>B.1.177.7</td>\n",
       "      <td>1.0</td>\n",
       "      <td>G</td>\n",
       "      <td>N</td>\n",
       "      <td>L</td>\n",
       "      <td>V</td>\n",
       "      <td>Y</td>\n",
       "      <td>N</td>\n",
       "      <td>T</td>\n",
       "      <td>P</td>\n",
       "      <td>Q</td>\n",
       "      <td>ref</td>\n",
       "    </tr>\n",
       "    <tr>\n",
       "      <th>4</th>\n",
       "      <td>England/EXET-1393E6/2020</td>\n",
       "      <td>UK</td>\n",
       "      <td>UK-ENG</td>\n",
       "      <td>False</td>\n",
       "      <td>2020-12-18</td>\n",
       "      <td>51</td>\n",
       "      <td>B.1.177</td>\n",
       "      <td>1.0</td>\n",
       "      <td>G</td>\n",
       "      <td>N</td>\n",
       "      <td>L</td>\n",
       "      <td>V</td>\n",
       "      <td>Y</td>\n",
       "      <td>N</td>\n",
       "      <td>T</td>\n",
       "      <td>P</td>\n",
       "      <td>Q</td>\n",
       "      <td>ref</td>\n",
       "    </tr>\n",
       "  </tbody>\n",
       "</table>\n",
       "</div>"
      ],
      "text/plain": [
       "              sequence_name country    adm1  pillar_2 sample_date  epi_week  \\\n",
       "0  England/EXET-13F5DB/2020      UK  UK-ENG     False  2020-12-18        51   \n",
       "1  England/EXET-136932/2020      UK  UK-ENG     False  2020-12-16        51   \n",
       "2  England/EXET-13F76C/2020      UK  UK-ENG     False  2020-12-18        51   \n",
       "3  England/EXET-13F5AE/2020      UK  UK-ENG     False  2020-12-18        51   \n",
       "4  England/EXET-1393E6/2020      UK  UK-ENG     False  2020-12-18        51   \n",
       "\n",
       "     lineage  lineage_support d614g n439k p323l a222v y453f n501y t1001i  \\\n",
       "0  B.1.177.9              1.0     G     N     L     V     Y     N      T   \n",
       "1        NaN              NaN     G     X     X     X     X     X      T   \n",
       "2    B.1.177              1.0     G     N     L     V     Y     N      T   \n",
       "3  B.1.177.7              1.0     G     N     L     V     Y     N      T   \n",
       "4    B.1.177              1.0     G     N     L     V     Y     N      T   \n",
       "\n",
       "  p681h q27stop del_21765_6  \n",
       "0     P       Q         ref  \n",
       "1     X       Q         ref  \n",
       "2     P       Q         ref  \n",
       "3     P       Q         ref  \n",
       "4     P       Q         ref  "
      ]
     },
     "execution_count": 774,
     "metadata": {},
     "output_type": "execute_result"
    }
   ],
   "source": [
    "cog_meta.head()"
   ]
  },
  {
   "cell_type": "code",
   "execution_count": 39,
   "metadata": {},
   "outputs": [
    {
     "data": {
      "text/plain": [
       "'2020-01-05'"
      ]
     },
     "execution_count": 39,
     "metadata": {},
     "output_type": "execute_result"
    }
   ],
   "source": [
    "data.loc[data['strain'] == tree.get_leaf_names()[0][1:-1], 'date'].iloc[0]"
   ]
  },
  {
   "cell_type": "code",
   "execution_count": 819,
   "metadata": {},
   "outputs": [
    {
     "data": {
      "text/plain": [
       "\"'Wuhan/WH04/2020'\""
      ]
     },
     "execution_count": 819,
     "metadata": {},
     "output_type": "execute_result"
    }
   ],
   "source": [
    "tree.get_leaf_names()[0][1:-1]"
   ]
  },
  {
   "cell_type": "code",
   "execution_count": 814,
   "metadata": {},
   "outputs": [
    {
     "data": {
      "text/plain": [
       "Series([], Name: sample_date, dtype: object)"
      ]
     },
     "execution_count": 814,
     "metadata": {},
     "output_type": "execute_result"
    }
   ],
   "source": [
    "cog_meta.loc[cog_meta['sequence_name'] == \"Wuhan/WH04/2020\", 'sample_date']"
   ]
  },
  {
   "cell_type": "code",
   "execution_count": null,
   "metadata": {},
   "outputs": [],
   "source": []
  },
  {
   "cell_type": "code",
   "execution_count": null,
   "metadata": {},
   "outputs": [],
   "source": []
  },
  {
   "cell_type": "code",
   "execution_count": 809,
   "metadata": {},
   "outputs": [
    {
     "name": "stdout",
     "output_type": "stream",
     "text": [
      "5\n"
     ]
    }
   ],
   "source": [
    "edges = [(1, 2), (3, 4), (4, 6)]\n",
    "\n",
    "def get_nodes_count(edges: list):\n",
    "    nodes = set()\n",
    "    for n1, n2 in edges:\n",
    "        nodes.add(n1)\n",
    "        nodes.add(n2)\n",
    "    return len(nodes)\n",
    "\n",
    "print(get_nodes_count(edges))"
   ]
  },
  {
   "cell_type": "code",
   "execution_count": null,
   "metadata": {},
   "outputs": [],
   "source": []
  }
 ],
 "metadata": {
  "kernelspec": {
   "display_name": "Python 3",
   "language": "python",
   "name": "python3"
  },
  "language_info": {
   "codemirror_mode": {
    "name": "ipython",
    "version": 3
   },
   "file_extension": ".py",
   "mimetype": "text/x-python",
   "name": "python",
   "nbconvert_exporter": "python",
   "pygments_lexer": "ipython3",
   "version": "3.6.5"
  }
 },
 "nbformat": 4,
 "nbformat_minor": 4
}
